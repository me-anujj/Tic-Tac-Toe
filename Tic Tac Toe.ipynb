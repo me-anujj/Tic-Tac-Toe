{
 "cells": [
  {
   "cell_type": "code",
   "execution_count": 2,
   "metadata": {},
   "outputs": [],
   "source": [
    "from IPython.display import clear_output  # clear the screen\n",
    "\n",
    "# Displaying Game Board\n",
    "\n",
    "def display_board(board):\n",
    "    clear_output()\n",
    "    print(f\"{board[1]}  | {board[2]} | {board[3]}\")\n",
    "    print(\"-----------\")\n",
    "    print(f\"{board[4]}  | {board[5]} | {board[6]}\")\n",
    "    print(\"-----------\")\n",
    "    print(f\"{board[7]}  | {board[8]} | {board[9]}\")\n",
    "\n",
    "# Test condition\n",
    "# board1 = [\" \"]*10\n",
    "# display_board(board1)"
   ]
  },
  {
   "cell_type": "code",
   "execution_count": 3,
   "metadata": {},
   "outputs": [],
   "source": [
    "def user_choice():\n",
    "    while True: \n",
    "        player1_marker = input(\"Player 1. Select X or O : \").upper()\n",
    "        if player1_marker == 'X' or player1_marker == 'O':\n",
    "            break;\n",
    "    if player1_marker == 'X':\n",
    "        return ('X', 'O')\n",
    "    else:\n",
    "        return ('O', 'X')"
   ]
  },
  {
   "cell_type": "code",
   "execution_count": 4,
   "metadata": {},
   "outputs": [],
   "source": [
    "import random\n",
    "\n",
    "def choose_player():\n",
    "    player = random.randint(0,1)\n",
    "    if player == 0:\n",
    "        return 'Player1'\n",
    "    else:\n",
    "        return 'Player2'"
   ]
  },
  {
   "cell_type": "code",
   "execution_count": 5,
   "metadata": {},
   "outputs": [],
   "source": [
    "def check_space(board, position):\n",
    "    return board[position]==\" \""
   ]
  },
  {
   "cell_type": "code",
   "execution_count": 6,
   "metadata": {},
   "outputs": [],
   "source": [
    "def draw(board):\n",
    "    for i in range(1, 10):\n",
    "        if check_space(board,i):\n",
    "            return False\n",
    "    return True"
   ]
  },
  {
   "cell_type": "code",
   "execution_count": 7,
   "metadata": {},
   "outputs": [],
   "source": [
    "def place_marker(board,position,marker):\n",
    "    board[position] = marker"
   ]
  },
  {
   "cell_type": "code",
   "execution_count": 13,
   "metadata": {},
   "outputs": [],
   "source": [
    "def position(board):\n",
    "    while True:\n",
    "        position = int(input(\"Enter position between (1-9): \"))\n",
    "        if check_space(board, position):\n",
    "            return position\n",
    "        else:\n",
    "            print(\"Invalid Entry! Try Again.\")\n",
    "#     position = 0\n",
    "    \n",
    "#     while not check_space(board,position):\n",
    "#         position = int(input(\"Choose your next position(1-9): \"))\n",
    "    \n",
    "#     return position"
   ]
  },
  {
   "cell_type": "code",
   "execution_count": 9,
   "metadata": {},
   "outputs": [],
   "source": [
    "def winner(board, mark):\n",
    "    return ((board[1]==mark and board[2]==mark and board[3]==mark) or  #row 1\n",
    "    (board[4]==mark and board[5]==mark and board[6]==mark) or  #row 2\n",
    "    (board[7]==mark and board[8]==mark and board[9]==mark) or  #row 3\n",
    "    (board[1]==mark and board[4]==mark and board[7]==mark) or  #coloum 1\n",
    "    (board[2]==mark and board[5]==mark and board[8]==mark) or  #coloum 2\n",
    "    (board[3]==mark and board[6]==mark and board[9]==mark) or  #coloum 3\n",
    "    (board[1]==mark and board[5]==mark and board[9]==mark) or  #daigonal\n",
    "    (board[3]==mark and board[5]==mark and board[7]==mark))    #daigonal"
   ]
  },
  {
   "cell_type": "code",
   "execution_count": null,
   "metadata": {},
   "outputs": [],
   "source": []
  },
  {
   "cell_type": "code",
   "execution_count": 15,
   "metadata": {},
   "outputs": [
    {
     "name": "stdout",
     "output_type": "stream",
     "text": [
      "O  | X | X\n",
      "-----------\n",
      "X  | X | O\n",
      "-----------\n",
      "O  | O | X\n",
      "Match Tie !!\n"
     ]
    }
   ],
   "source": [
    "# Main game file \n",
    "print(\"Welcome to Tic Tac Toe!!\")\n",
    "\n",
    "board = [\" \"]*10\n",
    "\n",
    "display_board(board)\n",
    "player1_mark, player2_mark = user_choice()\n",
    "turn = choose_player()\n",
    "print(f\"{turn} will go first.\")\n",
    "input(\"Press Enter to Continue: \")\n",
    "while True:\n",
    "    # Player 1\n",
    "    if turn == 'Player1':\n",
    "        display_board(board)\n",
    "        position1 = position(board)\n",
    "        place_marker(board, position1, player1_mark)\n",
    "\n",
    "        if winner(board, player1_mark):\n",
    "            display_board(board)\n",
    "            print(\"Congratulations Player 1 wins the game.\")\n",
    "            break\n",
    "        else:\n",
    "            if draw(board):\n",
    "                display_board(board)\n",
    "                print(\"Match Tie !!\")\n",
    "                break\n",
    "            else:\n",
    "                turn = 'Player2'\n",
    "    # Player 2\n",
    "    if turn == 'Player2':\n",
    "        \n",
    "        display_board(board)\n",
    "        position1 = position(board)\n",
    "        place_marker(board, position1, player2_mark)\n",
    "\n",
    "        if winner(board, player2_mark):\n",
    "            display_board(board)\n",
    "            print(\"Congratulations Player 1 wins the game.\")\n",
    "            break\n",
    "        else:\n",
    "            if draw(board):\n",
    "                display_board(board)\n",
    "                print(\"Match Tie !!\")\n",
    "                break\n",
    "            else:\n",
    "                turn = 'Player1'"
   ]
  }
 ],
 "metadata": {
  "kernelspec": {
   "display_name": "Python 3",
   "language": "python",
   "name": "python3"
  },
  "language_info": {
   "codemirror_mode": {
    "name": "ipython",
    "version": 3
   },
   "file_extension": ".py",
   "mimetype": "text/x-python",
   "name": "python",
   "nbconvert_exporter": "python",
   "pygments_lexer": "ipython3",
   "version": "3.7.3"
  }
 },
 "nbformat": 4,
 "nbformat_minor": 2
}
